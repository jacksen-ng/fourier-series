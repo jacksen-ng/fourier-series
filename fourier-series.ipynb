{
 "cells": [
  {
   "cell_type": "markdown",
   "metadata": {},
   "source": [
    "## $Fourier Series$\n",
    "\n",
    "- Fourier Series is a way to represent a periodic function as a sum of sine and cosine functions, or equivalently, as a sum of complex exponentials, each with different frequencies and amplitudes.\n",
    "\n",
    "- About the formula :\n",
    "\n",
    " $f(x)=\\dfrac{a_0}{2}+\\displaystyle\\sum_{n=1}^{\\infty}\\left(a_n\\cos \\dfrac{2\\pi n x}{T}+b_n\\sin \\dfrac{2\\pi nx}{T}\\right)$ \n",
    "\n",
    " $a_n=\\dfrac{2}{T}\\displaystyle\\int_0^{T}f(x)\\cos\\dfrac{2\\pi nx}{T}dx$\n",
    "\n",
    "$b_n=\\dfrac{2}{T}\\displaystyle\\int_0^{T}f(x)\\sin\\dfrac{2\\pi nx}{T}dx$"
   ]
  },
  {
   "cell_type": "markdown",
   "metadata": {},
   "source": [
    "- In this section I will use python to create a fourier series function and use it to draw\n",
    "a graph"
   ]
  },
  {
   "cell_type": "code",
   "execution_count": 20,
   "metadata": {},
   "outputs": [],
   "source": [
    "#import the necessary libraries\n",
    "import numpy as np\n",
    "import matplotlib.pyplot as plt\n",
    "from matplotlib.animation import FuncAnimation\n",
    "import random\n",
    "import sympy as sym"
   ]
  },
  {
   "cell_type": "code",
   "execution_count": 21,
   "metadata": {},
   "outputs": [],
   "source": [
    "def fourier_series():\n",
    "    t, n = sym.symbols('t n')\n",
    "    T = 2 * sym.pi\n",
    "\n",
    "    f = sym.Piecewise((0, t < 0), (1, t < sym.pi), (0, True))\n",
    "\n",
    "    a0 = 1 / T * sym.integrate(f, (t, 0, T))\n",
    "    an = 2 / T * sym.integrate(f * sym.cos(n * t), (t, 0, T))\n",
    "    bn = 2 / T * sym.integrate(f * sym.sin(n * t), (t, 0, T))\n",
    "\n",
    "    s = a0 / 2 + sym.summation(an * sym.cos(n * t) + bn * sym.sin(n * t), (n, 1, 10))\n",
    "    \n",
    "    return s, a0, an, bn"
   ]
  },
  {
   "cell_type": "code",
   "execution_count": 22,
   "metadata": {},
   "outputs": [
    {
     "data": {
      "text/latex": [
       "$\\displaystyle f(x) = \\frac{a_0}{2} + \\sum_{{n=1}}^{\\infty} \\left( a_n \\cos \\frac{{2\\pi n x}}{{T}} + b_n \\sin \\frac{{2\\pi n x}}{{T}} \\right)$"
      ],
      "text/plain": [
       "<IPython.core.display.Math object>"
      ]
     },
     "metadata": {},
     "output_type": "display_data"
    },
    {
     "data": {
      "text/latex": [
       "$\\displaystyle a_n = \\frac{2}{T} \\int_{{0}}^{{T}} f(x) \\cos \\frac{{2\\pi nx}}{{T}} \\, dx$"
      ],
      "text/plain": [
       "<IPython.core.display.Math object>"
      ]
     },
     "metadata": {},
     "output_type": "display_data"
    },
    {
     "data": {
      "text/latex": [
       "$\\displaystyle b_n = \\frac{2}{T} \\int_{{0}}^{{T}} f(x) \\sin \\frac{{2\\pi nx}}{{T}} \\, dx$"
      ],
      "text/plain": [
       "<IPython.core.display.Math object>"
      ]
     },
     "metadata": {},
     "output_type": "display_data"
    }
   ],
   "source": [
    "s, a0, an, bn = fourier_series()\n",
    "\n",
    "from sympy import latex\n",
    "from IPython.display import display, Math\n",
    "\n",
    "display(Math(r'f(x) = \\frac{a_0}{2} + \\sum_{{n=1}}^{\\infty} \\left( a_n \\cos \\frac{{2\\pi n x}}{{T}} + b_n \\sin \\frac{{2\\pi n x}}{{T}} \\right)'))\n",
    "display(Math(r'a_n = \\frac{2}{T} \\int_{{0}}^{{T}} f(x) \\cos \\frac{{2\\pi nx}}{{T}} \\, dx'))\n",
    "display(Math(r'b_n = \\frac{2}{T} \\int_{{0}}^{{T}} f(x) \\sin \\frac{{2\\pi nx}}{{T}} \\, dx'))\n"
   ]
  }
 ],
 "metadata": {
  "kernelspec": {
   "display_name": "Python 3",
   "language": "python",
   "name": "python3"
  },
  "language_info": {
   "codemirror_mode": {
    "name": "ipython",
    "version": 3
   },
   "file_extension": ".py",
   "mimetype": "text/x-python",
   "name": "python",
   "nbconvert_exporter": "python",
   "pygments_lexer": "ipython3",
   "version": "3.11.8"
  }
 },
 "nbformat": 4,
 "nbformat_minor": 2
}
